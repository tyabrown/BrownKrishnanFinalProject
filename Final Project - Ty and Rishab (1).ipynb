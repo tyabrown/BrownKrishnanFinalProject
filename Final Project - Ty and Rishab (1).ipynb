{
 "cells": [
  {
   "cell_type": "code",
   "execution_count": 2,
   "id": "0c4760ab",
   "metadata": {},
   "outputs": [],
   "source": [
    "#Open file function - completed and fully functional\n",
    "\n",
    "def open_file():\n",
    "    foundFile = 0 #Tracks if file has been found yet\n",
    "    while foundFile == 0: #Looks while file hasn't been found\n",
    "        fileName = input(\"Enter your filename: \")\n",
    "        try:\n",
    "            unfilteredFile = open(fileName, \"r\") #saves file to object\n",
    "            foundFile = 1 #Indicates that file has been found\n",
    "        except: #triggers error message if an error is raised - overwhelmingly likely to be File Not Found\n",
    "            print(\"Unable to find file. Please try again.\")\n",
    "    return(unfilteredFile) #returns file object\n",
    "\n",
    "#######################################################\n",
    "\n",
    "#Read data function - still needs better clean-up\n",
    "\n",
    "def read_data(fileInput):\n",
    "    import string #importing string package\n",
    "    punc = string.punctuation #so that I can use the punctuation list\n",
    "    \n",
    "    outputDict = {} #spinning up the output dictionary\n",
    "    outputDictKeysList = [] #and a way to track what words are in it as keys\n",
    "    lineCount = 0 #tracker variable for what line it is during the for line loop to add appropriate value to outputDict\n",
    "    \n",
    "    for line in fileInput: #for loop running below code for each line in the file\n",
    "        \n",
    "        alreadyInLine = [] #resetting already in Dict tracker list\n",
    "        \n",
    "        lineCount += 1\n",
    "        lineLower = line.lower() #clean-up: switch to lowercase\n",
    "        for punctuation in punc: #for loop to remove punctuation - punc was set earlier using string.punctuation\n",
    "            lineLower = lineLower.replace(punctuation,\"\") \n",
    "        lineLower = lineLower.replace(\"\\n\",\"\") #removes line break characters\n",
    "\n",
    "        indivWords = lineLower.split(' ') #splitting into individual words in a list\n",
    "        \n",
    "        for word in indivWords: #clean-up: for loop to remove single-letter words (or really any single-character string)\n",
    "            if len(word) == 1: #if length is one\n",
    "                indivWords.remove(word) #remove the word\n",
    "        \n",
    "        for word in indivWords: #now for looping through individual words\n",
    "            if alreadyInLine.count(word) == 0: #if this word is not already in the line\n",
    "                alreadyInLine.append(word) #adds word to already in line list so dupes within a line aren't counted twice\n",
    "                \n",
    "                if outputDictKeysList.count(word) == 0: #checks if word is already in dict\n",
    "                    lineCountList = [] #the next 2 lines make the int into a single item list so all my values are lists\n",
    "                    lineCountList.append(lineCount)\n",
    "                    outputDict.update({word:lineCountList}) # if it is not adds word to dict with value\n",
    "                    outputDictKeysList.append(word) #and then indicates that the key is now in the dict\n",
    "                \n",
    "                else: #used to add additional line to value of key\n",
    "                    DictCombinedVal = [] #resets combined value since last use\n",
    "                    if type(outputDict[word]) == int: #checks if there's more than 1 existing value\n",
    "                        DictCombinedVal.append(outputDict[word]) #if only one, can load int into list of values\n",
    "                                                                #to add to key\n",
    "                    else:\n",
    "                        for x in outputDict[word]: #if multiple, have to use for list to build list of\n",
    "                                                            #values to add to key\n",
    "                            DictCombinedVal.append(x)                        \n",
    "                   \n",
    "                    DictCombinedVal.append(lineCount) #adds new line number to combined value list\n",
    "                    outputDict.update({word:DictCombinedVal}) #updates value to new combined value\n",
    "    \n",
    "    outputDict.pop('') #removes empty key that results from removing \\n\n",
    "    return(outputDict)\n",
    "\n",
    "#######################################################\n",
    "\n",
    "#Find cooccurance function\n",
    "\n",
    "def find_cooccurrance(D, inp_str):\n",
    "    import string #import string package for punctuation list\n",
    "    punc = string.punctuation\n",
    "    word_list = inp_str.split(\" \") #split user input string by spaces for list of words inputted\n",
    "   \n",
    "    for word in word_list: #clean-up - make words lowercase\n",
    "        word_list.remove(word) #remove then append to update outside of loop\n",
    "        word = word.lower() #make words lowercase\n",
    "        word_list.append(word)\n",
    "   \n",
    "    for punctuation in punc: #clean-up - remove punctuation\n",
    "        for word in word_list:\n",
    "            word_list.remove(word) #remove/append to update outside of loop\n",
    "            word = word.replace(punctuation,\"\") #replace punctuation with blanks\n",
    "            word_list.append(word)\n",
    "   \n",
    "    while True:\n",
    "        if word_list[0] in D: #if the first word is in the dictionary\n",
    "            cooccurance_set = set(D[word_list[0]]) \n",
    "        else:\n",
    "            return #end function if the word isn't in the dictionary\n",
    "   \n",
    "        for word in word_list: #iterating through inputted words\n",
    "                   \n",
    "            if word in D: #if the word is in the dictionary\n",
    "                cooccurance_set = cooccurance_set.intersection(D[word])\n",
    "                #set cooccurance lines to all lines that occur with the current and all previous words\n",
    "            else:\n",
    "                return #ends function if one of the following words is not in dictionary\n",
    "       \n",
    "        line_list = list(sorted(cooccurance_set)) #sort list for formatting\n",
    "        return line_list #return the list of cooccurance lines\n",
    "\n",
    "#######################################################\n",
    "\n",
    "#Bonus function - gives some overall statistics about the words in the file.\n",
    "\n",
    "def statFunc(D):\n",
    "    print('Running statistics command.') #informs user what's going on.\n",
    "    \n",
    "    mostLinesCount = 0 \n",
    "    wordsCount = 0\n",
    "    for x in D.keys(): #checks the number of words in the file - used to give the number of words in the file.\n",
    "        wordsCount += 1\n",
    "    for x in D.values(): #creates a count of the most used word in order to give that stat.\n",
    "        if (len(x)) > mostLinesCount:\n",
    "            mostLinesCount = (len(x))\n",
    "            \n",
    "    lenList = []\n",
    "    for x in D.values(): #creates a list of the number of times each word appears\n",
    "                            #(so if a word appears 3 times, a 3 gets appended to the list)\n",
    "        lenList.append((len(x)))\n",
    "    lenDict = {}\n",
    "    for x in lenList: #creates a dictionary of how many words appear how many times\n",
    "                        #IE: x words:appear y times\n",
    "        if x in lenDict.keys(): #adds 1 to the count if the word is already in the dictionary\n",
    "            lenDictTemp = lenDict.get(x)\n",
    "            lenDictTemp += 1\n",
    "            lenDict.update({x:lenDictTemp})\n",
    "        else:\n",
    "            lenDict.update({x:1}) #starts the count at 1 if it is not\n",
    "    \n",
    "    print(\"There are\",wordsCount,\"words in the file.\") #print commands to generate an output with the statistics generated\n",
    "    print(\"The most lines any word appears in is\",mostLinesCount,\"lines.\")\n",
    "    for key,value in lenDict.items():\n",
    "        if value > 1: #these if statements are intended to make sure the printout has the correct grammar.\n",
    "            if key > 1:\n",
    "                print(value,\"words appear\",key,\"times.\")\n",
    "            else:\n",
    "                print(value,\"words appear\",key,\"time.\")\n",
    "        else:\n",
    "            if key > 1:\n",
    "                print(value,\"word appears\",key,\"times.\")\n",
    "            else:\n",
    "                print(value,\"word appears\",key,\"time.\")\n",
    "                \n",
    "#######################################################\n",
    "\n",
    "#Bonus function - prints a list of the words in the file.\n",
    "\n",
    "def wordList(D):\n",
    "    wordList = [] #creates empty list for the list of words\n",
    "    for x in D.keys(): #for loop to make a list of the keys in dict, which are all the words\n",
    "        wordList.append(x) #then add them to the list of words\n",
    "    \n",
    "    print('Printing list of',len(wordList),'words that appear in the file...') #Tells user what's happening, and gives count of words\n",
    "    print(wordList) #prints wordList\n",
    "\n",
    "#######################################################\n",
    "\n",
    "#Bonus function - returns words in that share a line in the file with the inputted word.\n",
    "\n",
    "def sameLineFinder(D): #function to output words that cooccur with the input word\n",
    "    print(\"Please enter a single word to find cooccurring words for.\")\n",
    "    newInput = input() #creates additional input because function requires word to find cooccurance for\n",
    "    linesList = D[newInput] #creates list of lines that the inputted word appears on\n",
    "    \n",
    "    cooccurringWords = [] #blank list to hold cooccurring words\n",
    "    for key in D.keys(): #for each word word in the input dict\n",
    "        for value in D[key]:\n",
    "            for line in linesList: #for each line that word appears in\n",
    "                if value == line: #if the newInput word is also in that line\n",
    "                    cooccurringWords.append(key) #add it to the list of cooccuring words\n",
    "    \n",
    "    print(newInput,'cooccurrs with',cooccurringWords) #then print that list (with some context)\n",
    "\n",
    "#######################################################\n",
    "\n",
    "#Main function\n",
    "\n",
    "def main():\n",
    "    \n",
    "    dict = read_data(open_file()) #creates dict object using read_data and open_file functions\n",
    "    quit = 0 #defines quit variable so I can use/break a while loop\n",
    "    while quit == 0:\n",
    "        print(\"Please enter space-seperated words to check for cooccurence (or a command):\")\n",
    "        inp_str = input()\n",
    "        if inp_str == \"q\": #if you input the quit string (q), break the loop.\n",
    "            print(\"Goodbye!\")\n",
    "            break #break ends the loop, and therefore execution of the main function.\n",
    "        elif inp_str == \"Q\": #second loop so \"Q\" works too\n",
    "            print(\"Goodbye!\")\n",
    "            break\n",
    "        elif inp_str == \"s\": #code to allow the stat function to be used using \"s\" as the input\n",
    "            statFunc(dict)\n",
    "        elif inp_str == \"S\": #more code to make \"s\" not case sensitive\n",
    "            statFunc(dict)\n",
    "        elif inp_str == \"w\": #code to allow the same line finder function to be used using \"w\" as the input\n",
    "            sameLineFinder(dict)\n",
    "        elif inp_str == \"W\": #more code to make \"w\" not case sensitive\n",
    "            sameLineFinder(dict)\n",
    "        elif inp_str == \"p\": #adding a quick command to print out the dictionary - mainly useful for diagnostic purposes\n",
    "            print(dict)\n",
    "        elif inp_str == \"P\": #more code to make \"p\" not case sensitive\n",
    "            print(dict)\n",
    "        elif inp_str == \"l\": #adding a quick command to print out a list of each word - useful to know what to check for\n",
    "                                                                                        #cooccurance of\n",
    "            wordList(dict)\n",
    "        elif inp_str == \"L\": #more code to make \"l\" not case sensitive\n",
    "            wordList(dict)\n",
    "        else:\n",
    "            print(\"List of lines where input words cooccur:\",find_cooccurrance(dict, inp_str)) #calls the find_cooccurance\n",
    "                                                                                                #function\n",
    "                                                                                            #if the input isn't a command\n"
   ]
  },
  {
   "cell_type": "code",
   "execution_count": 3,
   "id": "ec64bb77",
   "metadata": {
    "scrolled": true
   },
   "outputs": [
    {
     "name": "stdout",
     "output_type": "stream",
     "text": [
      "Enter your filename: pimpernel.txt\n",
      "{'they': [1, 2], 'seek': [1, 2, 3], 'him': [1, 2, 3], 'here': [1], 'there': [2], 'those': [3], 'frenchies': [3], 'everywhere': [3]}\n"
     ]
    }
   ],
   "source": [
    "#Attempting to do a function test of read_data\n",
    "funcTestFile = open_file()\n",
    "funcTestDict = read_data(funcTestFile)\n",
    "print(funcTestDict)\n",
    "\n",
    "#remember to use pimpernel.txt or the function test doesn't work"
   ]
  },
  {
   "cell_type": "code",
   "execution_count": 4,
   "id": "e33a0fcf",
   "metadata": {},
   "outputs": [
    {
     "name": "stdout",
     "output_type": "stream",
     "text": [
      "[1, 2, 3]\n"
     ]
    }
   ],
   "source": [
    "#And the next four boxes are the find_cooccurence function tests\n",
    "print(find_cooccurrance(funcTestDict, 'seek'))"
   ]
  },
  {
   "cell_type": "code",
   "execution_count": 5,
   "id": "c968f2d3",
   "metadata": {},
   "outputs": [
    {
     "name": "stdout",
     "output_type": "stream",
     "text": [
      "[1, 2]\n"
     ]
    }
   ],
   "source": [
    "print(find_cooccurrance(funcTestDict, 'they'))"
   ]
  },
  {
   "cell_type": "code",
   "execution_count": 6,
   "id": "c9811d7c",
   "metadata": {
    "scrolled": true
   },
   "outputs": [
    {
     "name": "stdout",
     "output_type": "stream",
     "text": [
      "[1, 2, 3]\n"
     ]
    }
   ],
   "source": [
    "print(find_cooccurrance(funcTestDict, 'him'))"
   ]
  },
  {
   "cell_type": "code",
   "execution_count": 7,
   "id": "7a547dc2",
   "metadata": {},
   "outputs": [
    {
     "name": "stdout",
     "output_type": "stream",
     "text": [
      "[1]\n"
     ]
    }
   ],
   "source": [
    "print(find_cooccurrance(funcTestDict, 'here'))"
   ]
  },
  {
   "cell_type": "code",
   "execution_count": 9,
   "id": "45100bfe",
   "metadata": {},
   "outputs": [
    {
     "name": "stdout",
     "output_type": "stream",
     "text": [
      "Enter your filename: einstein.txt\n",
      "Please enter space-seperated words to check for cooccurence (or a command):\n",
      "true knowledge imagination\n",
      "List of lines where input words cooccur: [3]\n",
      "Please enter space-seperated words to check for cooccurence (or a command):\n",
      "the\n",
      "List of lines where input words cooccur: [3, 4, 7]\n",
      "Please enter space-seperated words to check for cooccurence (or a command):\n",
      "the is\n",
      "List of lines where input words cooccur: [3, 7]\n",
      "Please enter space-seperated words to check for cooccurence (or a command):\n",
      "q\n",
      "Goodbye!\n"
     ]
    }
   ],
   "source": [
    "if __name__ == \"__main__\":\n",
    "    main()"
   ]
  }
 ],
 "metadata": {
  "kernelspec": {
   "display_name": "Python 3 (ipykernel)",
   "language": "python",
   "name": "python3"
  },
  "language_info": {
   "codemirror_mode": {
    "name": "ipython",
    "version": 3
   },
   "file_extension": ".py",
   "mimetype": "text/x-python",
   "name": "python",
   "nbconvert_exporter": "python",
   "pygments_lexer": "ipython3",
   "version": "3.9.7"
  }
 },
 "nbformat": 4,
 "nbformat_minor": 5
}
